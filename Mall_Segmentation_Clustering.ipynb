{
 "cells": [
  {
   "cell_type": "code",
   "execution_count": 602,
   "metadata": {},
   "outputs": [],
   "source": [
    "import pandas as pd\n",
    "import numpy as np"
   ]
  },
  {
   "cell_type": "code",
   "execution_count": 603,
   "metadata": {},
   "outputs": [],
   "source": [
    "data=pd.read_csv('C:/Users/Acer/Desktop/archive/Mall_Customers.csv')"
   ]
  },
  {
   "cell_type": "code",
   "execution_count": 604,
   "metadata": {},
   "outputs": [
    {
     "data": {
      "text/html": [
       "<div>\n",
       "<style scoped>\n",
       "    .dataframe tbody tr th:only-of-type {\n",
       "        vertical-align: middle;\n",
       "    }\n",
       "\n",
       "    .dataframe tbody tr th {\n",
       "        vertical-align: top;\n",
       "    }\n",
       "\n",
       "    .dataframe thead th {\n",
       "        text-align: right;\n",
       "    }\n",
       "</style>\n",
       "<table border=\"1\" class=\"dataframe\">\n",
       "  <thead>\n",
       "    <tr style=\"text-align: right;\">\n",
       "      <th></th>\n",
       "      <th>CustomerID</th>\n",
       "      <th>Gender</th>\n",
       "      <th>Age</th>\n",
       "      <th>Annual Income (k$)</th>\n",
       "      <th>Spending Score (1-100)</th>\n",
       "    </tr>\n",
       "  </thead>\n",
       "  <tbody>\n",
       "    <tr>\n",
       "      <th>0</th>\n",
       "      <td>1</td>\n",
       "      <td>Male</td>\n",
       "      <td>19</td>\n",
       "      <td>15</td>\n",
       "      <td>39</td>\n",
       "    </tr>\n",
       "    <tr>\n",
       "      <th>1</th>\n",
       "      <td>2</td>\n",
       "      <td>Male</td>\n",
       "      <td>21</td>\n",
       "      <td>15</td>\n",
       "      <td>81</td>\n",
       "    </tr>\n",
       "    <tr>\n",
       "      <th>2</th>\n",
       "      <td>3</td>\n",
       "      <td>Female</td>\n",
       "      <td>20</td>\n",
       "      <td>16</td>\n",
       "      <td>6</td>\n",
       "    </tr>\n",
       "    <tr>\n",
       "      <th>3</th>\n",
       "      <td>4</td>\n",
       "      <td>Female</td>\n",
       "      <td>23</td>\n",
       "      <td>16</td>\n",
       "      <td>77</td>\n",
       "    </tr>\n",
       "    <tr>\n",
       "      <th>4</th>\n",
       "      <td>5</td>\n",
       "      <td>Female</td>\n",
       "      <td>31</td>\n",
       "      <td>17</td>\n",
       "      <td>40</td>\n",
       "    </tr>\n",
       "  </tbody>\n",
       "</table>\n",
       "</div>"
      ],
      "text/plain": [
       "   CustomerID  Gender  Age  Annual Income (k$)  Spending Score (1-100)\n",
       "0           1    Male   19                  15                      39\n",
       "1           2    Male   21                  15                      81\n",
       "2           3  Female   20                  16                       6\n",
       "3           4  Female   23                  16                      77\n",
       "4           5  Female   31                  17                      40"
      ]
     },
     "execution_count": 604,
     "metadata": {},
     "output_type": "execute_result"
    }
   ],
   "source": [
    "data.head()"
   ]
  },
  {
   "cell_type": "code",
   "execution_count": 605,
   "metadata": {},
   "outputs": [
    {
     "data": {
      "text/html": [
       "<div>\n",
       "<style scoped>\n",
       "    .dataframe tbody tr th:only-of-type {\n",
       "        vertical-align: middle;\n",
       "    }\n",
       "\n",
       "    .dataframe tbody tr th {\n",
       "        vertical-align: top;\n",
       "    }\n",
       "\n",
       "    .dataframe thead th {\n",
       "        text-align: right;\n",
       "    }\n",
       "</style>\n",
       "<table border=\"1\" class=\"dataframe\">\n",
       "  <thead>\n",
       "    <tr style=\"text-align: right;\">\n",
       "      <th></th>\n",
       "      <th>CustomerID</th>\n",
       "      <th>Gender</th>\n",
       "      <th>Age</th>\n",
       "      <th>Annual Income (k$)</th>\n",
       "      <th>Spending Score (1-100)</th>\n",
       "    </tr>\n",
       "  </thead>\n",
       "  <tbody>\n",
       "    <tr>\n",
       "      <th>195</th>\n",
       "      <td>196</td>\n",
       "      <td>Female</td>\n",
       "      <td>35</td>\n",
       "      <td>120</td>\n",
       "      <td>79</td>\n",
       "    </tr>\n",
       "    <tr>\n",
       "      <th>196</th>\n",
       "      <td>197</td>\n",
       "      <td>Female</td>\n",
       "      <td>45</td>\n",
       "      <td>126</td>\n",
       "      <td>28</td>\n",
       "    </tr>\n",
       "    <tr>\n",
       "      <th>197</th>\n",
       "      <td>198</td>\n",
       "      <td>Male</td>\n",
       "      <td>32</td>\n",
       "      <td>126</td>\n",
       "      <td>74</td>\n",
       "    </tr>\n",
       "    <tr>\n",
       "      <th>198</th>\n",
       "      <td>199</td>\n",
       "      <td>Male</td>\n",
       "      <td>32</td>\n",
       "      <td>137</td>\n",
       "      <td>18</td>\n",
       "    </tr>\n",
       "    <tr>\n",
       "      <th>199</th>\n",
       "      <td>200</td>\n",
       "      <td>Male</td>\n",
       "      <td>30</td>\n",
       "      <td>137</td>\n",
       "      <td>83</td>\n",
       "    </tr>\n",
       "  </tbody>\n",
       "</table>\n",
       "</div>"
      ],
      "text/plain": [
       "     CustomerID  Gender  Age  Annual Income (k$)  Spending Score (1-100)\n",
       "195         196  Female   35                 120                      79\n",
       "196         197  Female   45                 126                      28\n",
       "197         198    Male   32                 126                      74\n",
       "198         199    Male   32                 137                      18\n",
       "199         200    Male   30                 137                      83"
      ]
     },
     "execution_count": 605,
     "metadata": {},
     "output_type": "execute_result"
    }
   ],
   "source": [
    "data.tail()"
   ]
  },
  {
   "cell_type": "code",
   "execution_count": 606,
   "metadata": {},
   "outputs": [
    {
     "name": "stdout",
     "output_type": "stream",
     "text": [
      "<class 'pandas.core.frame.DataFrame'>\n",
      "RangeIndex: 200 entries, 0 to 199\n",
      "Data columns (total 5 columns):\n",
      " #   Column                  Non-Null Count  Dtype \n",
      "---  ------                  --------------  ----- \n",
      " 0   CustomerID              200 non-null    int64 \n",
      " 1   Gender                  200 non-null    object\n",
      " 2   Age                     200 non-null    int64 \n",
      " 3   Annual Income (k$)      200 non-null    int64 \n",
      " 4   Spending Score (1-100)  200 non-null    int64 \n",
      "dtypes: int64(4), object(1)\n",
      "memory usage: 7.9+ KB\n"
     ]
    }
   ],
   "source": [
    "data.info()"
   ]
  },
  {
   "cell_type": "code",
   "execution_count": 607,
   "metadata": {},
   "outputs": [
    {
     "data": {
      "text/html": [
       "<div>\n",
       "<style scoped>\n",
       "    .dataframe tbody tr th:only-of-type {\n",
       "        vertical-align: middle;\n",
       "    }\n",
       "\n",
       "    .dataframe tbody tr th {\n",
       "        vertical-align: top;\n",
       "    }\n",
       "\n",
       "    .dataframe thead th {\n",
       "        text-align: right;\n",
       "    }\n",
       "</style>\n",
       "<table border=\"1\" class=\"dataframe\">\n",
       "  <thead>\n",
       "    <tr style=\"text-align: right;\">\n",
       "      <th></th>\n",
       "      <th>CustomerID</th>\n",
       "      <th>Age</th>\n",
       "      <th>Annual Income (k$)</th>\n",
       "      <th>Spending Score (1-100)</th>\n",
       "    </tr>\n",
       "  </thead>\n",
       "  <tbody>\n",
       "    <tr>\n",
       "      <th>count</th>\n",
       "      <td>200.000000</td>\n",
       "      <td>200.000000</td>\n",
       "      <td>200.000000</td>\n",
       "      <td>200.000000</td>\n",
       "    </tr>\n",
       "    <tr>\n",
       "      <th>mean</th>\n",
       "      <td>100.500000</td>\n",
       "      <td>38.850000</td>\n",
       "      <td>60.560000</td>\n",
       "      <td>50.200000</td>\n",
       "    </tr>\n",
       "    <tr>\n",
       "      <th>std</th>\n",
       "      <td>57.879185</td>\n",
       "      <td>13.969007</td>\n",
       "      <td>26.264721</td>\n",
       "      <td>25.823522</td>\n",
       "    </tr>\n",
       "    <tr>\n",
       "      <th>min</th>\n",
       "      <td>1.000000</td>\n",
       "      <td>18.000000</td>\n",
       "      <td>15.000000</td>\n",
       "      <td>1.000000</td>\n",
       "    </tr>\n",
       "    <tr>\n",
       "      <th>25%</th>\n",
       "      <td>50.750000</td>\n",
       "      <td>28.750000</td>\n",
       "      <td>41.500000</td>\n",
       "      <td>34.750000</td>\n",
       "    </tr>\n",
       "    <tr>\n",
       "      <th>50%</th>\n",
       "      <td>100.500000</td>\n",
       "      <td>36.000000</td>\n",
       "      <td>61.500000</td>\n",
       "      <td>50.000000</td>\n",
       "    </tr>\n",
       "    <tr>\n",
       "      <th>75%</th>\n",
       "      <td>150.250000</td>\n",
       "      <td>49.000000</td>\n",
       "      <td>78.000000</td>\n",
       "      <td>73.000000</td>\n",
       "    </tr>\n",
       "    <tr>\n",
       "      <th>max</th>\n",
       "      <td>200.000000</td>\n",
       "      <td>70.000000</td>\n",
       "      <td>137.000000</td>\n",
       "      <td>99.000000</td>\n",
       "    </tr>\n",
       "  </tbody>\n",
       "</table>\n",
       "</div>"
      ],
      "text/plain": [
       "       CustomerID         Age  Annual Income (k$)  Spending Score (1-100)\n",
       "count  200.000000  200.000000          200.000000              200.000000\n",
       "mean   100.500000   38.850000           60.560000               50.200000\n",
       "std     57.879185   13.969007           26.264721               25.823522\n",
       "min      1.000000   18.000000           15.000000                1.000000\n",
       "25%     50.750000   28.750000           41.500000               34.750000\n",
       "50%    100.500000   36.000000           61.500000               50.000000\n",
       "75%    150.250000   49.000000           78.000000               73.000000\n",
       "max    200.000000   70.000000          137.000000               99.000000"
      ]
     },
     "execution_count": 607,
     "metadata": {},
     "output_type": "execute_result"
    }
   ],
   "source": [
    "data.describe()"
   ]
  },
  {
   "cell_type": "code",
   "execution_count": 608,
   "metadata": {},
   "outputs": [
    {
     "data": {
      "text/html": [
       "<div>\n",
       "<style scoped>\n",
       "    .dataframe tbody tr th:only-of-type {\n",
       "        vertical-align: middle;\n",
       "    }\n",
       "\n",
       "    .dataframe tbody tr th {\n",
       "        vertical-align: top;\n",
       "    }\n",
       "\n",
       "    .dataframe thead th {\n",
       "        text-align: right;\n",
       "    }\n",
       "</style>\n",
       "<table border=\"1\" class=\"dataframe\">\n",
       "  <thead>\n",
       "    <tr style=\"text-align: right;\">\n",
       "      <th></th>\n",
       "      <th>Gender</th>\n",
       "    </tr>\n",
       "  </thead>\n",
       "  <tbody>\n",
       "    <tr>\n",
       "      <th>count</th>\n",
       "      <td>200</td>\n",
       "    </tr>\n",
       "    <tr>\n",
       "      <th>unique</th>\n",
       "      <td>2</td>\n",
       "    </tr>\n",
       "    <tr>\n",
       "      <th>top</th>\n",
       "      <td>Female</td>\n",
       "    </tr>\n",
       "    <tr>\n",
       "      <th>freq</th>\n",
       "      <td>112</td>\n",
       "    </tr>\n",
       "  </tbody>\n",
       "</table>\n",
       "</div>"
      ],
      "text/plain": [
       "        Gender\n",
       "count      200\n",
       "unique       2\n",
       "top     Female\n",
       "freq       112"
      ]
     },
     "execution_count": 608,
     "metadata": {},
     "output_type": "execute_result"
    }
   ],
   "source": [
    "data.describe(include='object')"
   ]
  },
  {
   "cell_type": "code",
   "execution_count": 609,
   "metadata": {},
   "outputs": [
    {
     "data": {
      "text/plain": [
       "CustomerID                0\n",
       "Gender                    0\n",
       "Age                       0\n",
       "Annual Income (k$)        0\n",
       "Spending Score (1-100)    0\n",
       "dtype: int64"
      ]
     },
     "execution_count": 609,
     "metadata": {},
     "output_type": "execute_result"
    }
   ],
   "source": [
    "data.isna().sum()"
   ]
  },
  {
   "cell_type": "code",
   "execution_count": 610,
   "metadata": {},
   "outputs": [],
   "source": [
    "import matplotlib.pyplot as plt\n",
    "import seaborn as sns"
   ]
  },
  {
   "cell_type": "code",
   "execution_count": 611,
   "metadata": {},
   "outputs": [
    {
     "data": {
      "text/plain": [
       "<AxesSubplot:>"
      ]
     },
     "execution_count": 611,
     "metadata": {},
     "output_type": "execute_result"
    },
    {
     "data": {
      "image/png": "[encoded data removed]",
      "text/plain": [
       "<Figure size 1080x1080 with 2 Axes>"
      ]
     },
     "metadata": {
      "needs_background": "light"
     },
     "output_type": "display_data"
    }
   ],
   "source": [
    "plt.figure(figsize=(15,15))\n",
    "sns.heatmap(data.corr(),annot=True)"
   ]
  },
  {
   "cell_type": "markdown",
   "metadata": {},
   "source": [
    "### Checking for outliers"
   ]
  },
  {
   "cell_type": "code",
   "execution_count": 612,
   "metadata": {
    "scrolled": true
   },
   "outputs": [
    {
     "name": "stderr",
     "output_type": "stream",
     "text": [
      "D:\\anaconda\\lib\\site-packages\\seaborn\\_decorators.py:36: FutureWarning: Pass the following variable as a keyword arg: x. From version 0.12, the only valid positional argument will be `data`, and passing other arguments without an explicit keyword will result in an error or misinterpretation.\n",
      "  warnings.warn(\n"
     ]
    },
    {
     "data": {
      "text/plain": [
       "<AxesSubplot:xlabel='Age'>"
      ]
     },
     "execution_count": 612,
     "metadata": {},
     "output_type": "execute_result"
    },
    {
     "data": {
      "image/png": "[encoded data removed]",
      "text/plain": [
       "<Figure size 432x288 with 1 Axes>"
      ]
     },
     "metadata": {
      "needs_background": "light"
     },
     "output_type": "display_data"
    }
   ],
   "source": [
    "sns.boxplot(data['Age'])"
   ]
  },
  {
   "cell_type": "code",
   "execution_count": 613,
   "metadata": {},
   "outputs": [
    {
     "name": "stderr",
     "output_type": "stream",
     "text": [
      "D:\\anaconda\\lib\\site-packages\\seaborn\\_decorators.py:36: FutureWarning: Pass the following variable as a keyword arg: x. From version 0.12, the only valid positional argument will be `data`, and passing other arguments without an explicit keyword will result in an error or misinterpretation.\n",
      "  warnings.warn(\n"
     ]
    },
    {
     "data": {
      "text/plain": [
       "<AxesSubplot:xlabel='Annual Income (k$)'>"
      ]
     },
     "execution_count": 613,
     "metadata": {},
     "output_type": "execute_result"
    },
    {
     "data": {
      "image/png": "[encoded data removed]",
      "text/plain": [
       "<Figure size 432x288 with 1 Axes>"
      ]
     },
     "metadata": {
      "needs_background": "light"
     },
     "output_type": "display_data"
    }
   ],
   "source": [
    "sns.boxplot(data['Annual Income (k$)'])"
   ]
  },
  {
   "cell_type": "code",
   "execution_count": 614,
   "metadata": {},
   "outputs": [
    {
     "name": "stderr",
     "output_type": "stream",
     "text": [
      "D:\\anaconda\\lib\\site-packages\\seaborn\\_decorators.py:36: FutureWarning: Pass the following variable as a keyword arg: x. From version 0.12, the only valid positional argument will be `data`, and passing other arguments without an explicit keyword will result in an error or misinterpretation.\n",
      "  warnings.warn(\n"
     ]
    },
    {
     "data": {
      "text/plain": [
       "<AxesSubplot:xlabel='Spending Score (1-100)'>"
      ]
     },
     "execution_count": 614,
     "metadata": {},
     "output_type": "execute_result"
    },
    {
     "data": {
      "image/png": "[encoded data removed]",
      "text/plain": [
       "<Figure size 432x288 with 1 Axes>"
      ]
     },
     "metadata": {
      "needs_background": "light"
     },
     "output_type": "display_data"
    }
   ],
   "source": [
    "sns.boxplot(data['Spending Score (1-100)'])"
   ]
  },
  {
   "cell_type": "markdown",
   "metadata": {},
   "source": [
    "### Replacing the outliers with meadian"
   ]
  },
  {
   "cell_type": "code",
   "execution_count": 615,
   "metadata": {},
   "outputs": [],
   "source": [
    "Q1 = data['Annual Income (k$)'].quantile(0.25)\n",
    "Q3 = data['Annual Income (k$)'].quantile(0.75)\n",
    "IQR = Q3 - Q1"
   ]
  },
  {
   "cell_type": "code",
   "execution_count": 616,
   "metadata": {},
   "outputs": [
    {
     "name": "stdout",
     "output_type": "stream",
     "text": [
      "lower limit is -13.25\n",
      "upper limit is 132.75\n"
     ]
    }
   ],
   "source": [
    "# As we know that we can take value upyo range of (Q1-1.5*QPR, Q3+1.5*QPR)\n",
    "lower_limit = Q1 - 1.5 * IQR\n",
    "upper_limit = Q3 + 1.5 * IQR\n",
    "print('lower limit is', lower_limit)\n",
    "print('upper limit is', upper_limit)"
   ]
  },
  {
   "cell_type": "code",
   "execution_count": 617,
   "metadata": {},
   "outputs": [
    {
     "name": "stdout",
     "output_type": "stream",
     "text": [
      " outlier in the dataset is [137, 137]\n"
     ]
    }
   ],
   "source": [
    "outliers_detected = []\n",
    "for x in data['Annual Income (k$)']:\n",
    "    if ((x> upper_limit) or (x<lower_limit)):\n",
    "         outliers_detected.append(x)\n",
    "print(' outlier in the dataset is', outliers_detected)"
   ]
  },
  {
   "cell_type": "code",
   "execution_count": 618,
   "metadata": {},
   "outputs": [],
   "source": [
    "# replacing it with the median value \n",
    "data.loc[data['Annual Income (k$)'] >= 137, 'Annual Income (k$)'] = data[\"Annual Income (k$)\"].median()"
   ]
  },
  {
   "cell_type": "code",
   "execution_count": 619,
   "metadata": {},
   "outputs": [
    {
     "data": {
      "text/html": [
       "<div>\n",
       "<style scoped>\n",
       "    .dataframe tbody tr th:only-of-type {\n",
       "        vertical-align: middle;\n",
       "    }\n",
       "\n",
       "    .dataframe tbody tr th {\n",
       "        vertical-align: top;\n",
       "    }\n",
       "\n",
       "    .dataframe thead th {\n",
       "        text-align: right;\n",
       "    }\n",
       "</style>\n",
       "<table border=\"1\" class=\"dataframe\">\n",
       "  <thead>\n",
       "    <tr style=\"text-align: right;\">\n",
       "      <th></th>\n",
       "      <th>CustomerID</th>\n",
       "      <th>Gender</th>\n",
       "      <th>Age</th>\n",
       "      <th>Annual Income (k$)</th>\n",
       "      <th>Spending Score (1-100)</th>\n",
       "    </tr>\n",
       "  </thead>\n",
       "  <tbody>\n",
       "    <tr>\n",
       "      <th>0</th>\n",
       "      <td>1</td>\n",
       "      <td>Male</td>\n",
       "      <td>19</td>\n",
       "      <td>15.0</td>\n",
       "      <td>39</td>\n",
       "    </tr>\n",
       "    <tr>\n",
       "      <th>1</th>\n",
       "      <td>2</td>\n",
       "      <td>Male</td>\n",
       "      <td>21</td>\n",
       "      <td>15.0</td>\n",
       "      <td>81</td>\n",
       "    </tr>\n",
       "    <tr>\n",
       "      <th>2</th>\n",
       "      <td>3</td>\n",
       "      <td>Female</td>\n",
       "      <td>20</td>\n",
       "      <td>16.0</td>\n",
       "      <td>6</td>\n",
       "    </tr>\n",
       "    <tr>\n",
       "      <th>3</th>\n",
       "      <td>4</td>\n",
       "      <td>Female</td>\n",
       "      <td>23</td>\n",
       "      <td>16.0</td>\n",
       "      <td>77</td>\n",
       "    </tr>\n",
       "    <tr>\n",
       "      <th>4</th>\n",
       "      <td>5</td>\n",
       "      <td>Female</td>\n",
       "      <td>31</td>\n",
       "      <td>17.0</td>\n",
       "      <td>40</td>\n",
       "    </tr>\n",
       "  </tbody>\n",
       "</table>\n",
       "</div>"
      ],
      "text/plain": [
       "   CustomerID  Gender  Age  Annual Income (k$)  Spending Score (1-100)\n",
       "0           1    Male   19                15.0                      39\n",
       "1           2    Male   21                15.0                      81\n",
       "2           3  Female   20                16.0                       6\n",
       "3           4  Female   23                16.0                      77\n",
       "4           5  Female   31                17.0                      40"
      ]
     },
     "execution_count": 619,
     "metadata": {},
     "output_type": "execute_result"
    }
   ],
   "source": [
    "data.head()"
   ]
  },
  {
   "cell_type": "code",
   "execution_count": 620,
   "metadata": {},
   "outputs": [],
   "source": [
    "df=data.copy()"
   ]
  },
  {
   "cell_type": "code",
   "execution_count": 621,
   "metadata": {},
   "outputs": [
    {
     "data": {
      "text/html": [
       "<div>\n",
       "<style scoped>\n",
       "    .dataframe tbody tr th:only-of-type {\n",
       "        vertical-align: middle;\n",
       "    }\n",
       "\n",
       "    .dataframe tbody tr th {\n",
       "        vertical-align: top;\n",
       "    }\n",
       "\n",
       "    .dataframe thead th {\n",
       "        text-align: right;\n",
       "    }\n",
       "</style>\n",
       "<table border=\"1\" class=\"dataframe\">\n",
       "  <thead>\n",
       "    <tr style=\"text-align: right;\">\n",
       "      <th></th>\n",
       "      <th>CustomerID</th>\n",
       "      <th>Gender</th>\n",
       "      <th>Age</th>\n",
       "      <th>Annual Income (k$)</th>\n",
       "      <th>Spending Score (1-100)</th>\n",
       "    </tr>\n",
       "  </thead>\n",
       "  <tbody>\n",
       "    <tr>\n",
       "      <th>0</th>\n",
       "      <td>1</td>\n",
       "      <td>Male</td>\n",
       "      <td>19</td>\n",
       "      <td>15.0</td>\n",
       "      <td>39</td>\n",
       "    </tr>\n",
       "    <tr>\n",
       "      <th>1</th>\n",
       "      <td>2</td>\n",
       "      <td>Male</td>\n",
       "      <td>21</td>\n",
       "      <td>15.0</td>\n",
       "      <td>81</td>\n",
       "    </tr>\n",
       "    <tr>\n",
       "      <th>2</th>\n",
       "      <td>3</td>\n",
       "      <td>Female</td>\n",
       "      <td>20</td>\n",
       "      <td>16.0</td>\n",
       "      <td>6</td>\n",
       "    </tr>\n",
       "    <tr>\n",
       "      <th>3</th>\n",
       "      <td>4</td>\n",
       "      <td>Female</td>\n",
       "      <td>23</td>\n",
       "      <td>16.0</td>\n",
       "      <td>77</td>\n",
       "    </tr>\n",
       "    <tr>\n",
       "      <th>4</th>\n",
       "      <td>5</td>\n",
       "      <td>Female</td>\n",
       "      <td>31</td>\n",
       "      <td>17.0</td>\n",
       "      <td>40</td>\n",
       "    </tr>\n",
       "  </tbody>\n",
       "</table>\n",
       "</div>"
      ],
      "text/plain": [
       "   CustomerID  Gender  Age  Annual Income (k$)  Spending Score (1-100)\n",
       "0           1    Male   19                15.0                      39\n",
       "1           2    Male   21                15.0                      81\n",
       "2           3  Female   20                16.0                       6\n",
       "3           4  Female   23                16.0                      77\n",
       "4           5  Female   31                17.0                      40"
      ]
     },
     "execution_count": 621,
     "metadata": {},
     "output_type": "execute_result"
    }
   ],
   "source": [
    "df.head()"
   ]
  },
  {
   "cell_type": "code",
   "execution_count": 622,
   "metadata": {},
   "outputs": [],
   "source": [
    "cust=df['Gender']"
   ]
  },
  {
   "cell_type": "code",
   "execution_count": 623,
   "metadata": {},
   "outputs": [],
   "source": [
    "del df['Gender']"
   ]
  },
  {
   "cell_type": "code",
   "execution_count": 624,
   "metadata": {},
   "outputs": [],
   "source": [
    "samples=df.values"
   ]
  },
  {
   "cell_type": "code",
   "execution_count": 625,
   "metadata": {},
   "outputs": [
    {
     "data": {
      "text/plain": [
       "array([[  1. ,  19. ,  15. ,  39. ],\n",
       "       [  2. ,  21. ,  15. ,  81. ],\n",
       "       [  3. ,  20. ,  16. ,   6. ],\n",
       "       [  4. ,  23. ,  16. ,  77. ],\n",
       "       [  5. ,  31. ,  17. ,  40. ],\n",
       "       [  6. ,  22. ,  17. ,  76. ],\n",
       "       [  7. ,  35. ,  18. ,   6. ],\n",
       "       [  8. ,  23. ,  18. ,  94. ],\n",
       "       [  9. ,  64. ,  19. ,   3. ],\n",
       "       [ 10. ,  30. ,  19. ,  72. ],\n",
       "       [ 11. ,  67. ,  19. ,  14. ],\n",
       "       [ 12. ,  35. ,  19. ,  99. ],\n",
       "       [ 13. ,  58. ,  20. ,  15. ],\n",
       "       [ 14. ,  24. ,  20. ,  77. ],\n",
       "       [ 15. ,  37. ,  20. ,  13. ],\n",
       "       [ 16. ,  22. ,  20. ,  79. ],\n",
       "       [ 17. ,  35. ,  21. ,  35. ],\n",
       "       [ 18. ,  20. ,  21. ,  66. ],\n",
       "       [ 19. ,  52. ,  23. ,  29. ],\n",
       "       [ 20. ,  35. ,  23. ,  98. ],\n",
       "       [ 21. ,  35. ,  24. ,  35. ],\n",
       "       [ 22. ,  25. ,  24. ,  73. ],\n",
       "       [ 23. ,  46. ,  25. ,   5. ],\n",
       "       [ 24. ,  31. ,  25. ,  73. ],\n",
       "       [ 25. ,  54. ,  28. ,  14. ],\n",
       "       [ 26. ,  29. ,  28. ,  82. ],\n",
       "       [ 27. ,  45. ,  28. ,  32. ],\n",
       "       [ 28. ,  35. ,  28. ,  61. ],\n",
       "       [ 29. ,  40. ,  29. ,  31. ],\n",
       "       [ 30. ,  23. ,  29. ,  87. ],\n",
       "       [ 31. ,  60. ,  30. ,   4. ],\n",
       "       [ 32. ,  21. ,  30. ,  73. ],\n",
       "       [ 33. ,  53. ,  33. ,   4. ],\n",
       "       [ 34. ,  18. ,  33. ,  92. ],\n",
       "       [ 35. ,  49. ,  33. ,  14. ],\n",
       "       [ 36. ,  21. ,  33. ,  81. ],\n",
       "       [ 37. ,  42. ,  34. ,  17. ],\n",
       "       [ 38. ,  30. ,  34. ,  73. ],\n",
       "       [ 39. ,  36. ,  37. ,  26. ],\n",
       "       [ 40. ,  20. ,  37. ,  75. ],\n",
       "       [ 41. ,  65. ,  38. ,  35. ],\n",
       "       [ 42. ,  24. ,  38. ,  92. ],\n",
       "       [ 43. ,  48. ,  39. ,  36. ],\n",
       "       [ 44. ,  31. ,  39. ,  61. ],\n",
       "       [ 45. ,  49. ,  39. ,  28. ],\n",
       "       [ 46. ,  24. ,  39. ,  65. ],\n",
       "       [ 47. ,  50. ,  40. ,  55. ],\n",
       "       [ 48. ,  27. ,  40. ,  47. ],\n",
       "       [ 49. ,  29. ,  40. ,  42. ],\n",
       "       [ 50. ,  31. ,  40. ,  42. ],\n",
       "       [ 51. ,  49. ,  42. ,  52. ],\n",
       "       [ 52. ,  33. ,  42. ,  60. ],\n",
       "       [ 53. ,  31. ,  43. ,  54. ],\n",
       "       [ 54. ,  59. ,  43. ,  60. ],\n",
       "       [ 55. ,  50. ,  43. ,  45. ],\n",
       "       [ 56. ,  47. ,  43. ,  41. ],\n",
       "       [ 57. ,  51. ,  44. ,  50. ],\n",
       "       [ 58. ,  69. ,  44. ,  46. ],\n",
       "       [ 59. ,  27. ,  46. ,  51. ],\n",
       "       [ 60. ,  53. ,  46. ,  46. ],\n",
       "       [ 61. ,  70. ,  46. ,  56. ],\n",
       "       [ 62. ,  19. ,  46. ,  55. ],\n",
       "       [ 63. ,  67. ,  47. ,  52. ],\n",
       "       [ 64. ,  54. ,  47. ,  59. ],\n",
       "       [ 65. ,  63. ,  48. ,  51. ],\n",
       "       [ 66. ,  18. ,  48. ,  59. ],\n",
       "       [ 67. ,  43. ,  48. ,  50. ],\n",
       "       [ 68. ,  68. ,  48. ,  48. ],\n",
       "       [ 69. ,  19. ,  48. ,  59. ],\n",
       "       [ 70. ,  32. ,  48. ,  47. ],\n",
       "       [ 71. ,  70. ,  49. ,  55. ],\n",
       "       [ 72. ,  47. ,  49. ,  42. ],\n",
       "       [ 73. ,  60. ,  50. ,  49. ],\n",
       "       [ 74. ,  60. ,  50. ,  56. ],\n",
       "       [ 75. ,  59. ,  54. ,  47. ],\n",
       "       [ 76. ,  26. ,  54. ,  54. ],\n",
       "       [ 77. ,  45. ,  54. ,  53. ],\n",
       "       [ 78. ,  40. ,  54. ,  48. ],\n",
       "       [ 79. ,  23. ,  54. ,  52. ],\n",
       "       [ 80. ,  49. ,  54. ,  42. ],\n",
       "       [ 81. ,  57. ,  54. ,  51. ],\n",
       "       [ 82. ,  38. ,  54. ,  55. ],\n",
       "       [ 83. ,  67. ,  54. ,  41. ],\n",
       "       [ 84. ,  46. ,  54. ,  44. ],\n",
       "       [ 85. ,  21. ,  54. ,  57. ],\n",
       "       [ 86. ,  48. ,  54. ,  46. ],\n",
       "       [ 87. ,  55. ,  57. ,  58. ],\n",
       "       [ 88. ,  22. ,  57. ,  55. ],\n",
       "       [ 89. ,  34. ,  58. ,  60. ],\n",
       "       [ 90. ,  50. ,  58. ,  46. ],\n",
       "       [ 91. ,  68. ,  59. ,  55. ],\n",
       "       [ 92. ,  18. ,  59. ,  41. ],\n",
       "       [ 93. ,  48. ,  60. ,  49. ],\n",
       "       [ 94. ,  40. ,  60. ,  40. ],\n",
       "       [ 95. ,  32. ,  60. ,  42. ],\n",
       "       [ 96. ,  24. ,  60. ,  52. ],\n",
       "       [ 97. ,  47. ,  60. ,  47. ],\n",
       "       [ 98. ,  27. ,  60. ,  50. ],\n",
       "       [ 99. ,  48. ,  61. ,  42. ],\n",
       "       [100. ,  20. ,  61. ,  49. ],\n",
       "       [101. ,  23. ,  62. ,  41. ],\n",
       "       [102. ,  49. ,  62. ,  48. ],\n",
       "       [103. ,  67. ,  62. ,  59. ],\n",
       "       [104. ,  26. ,  62. ,  55. ],\n",
       "       [105. ,  49. ,  62. ,  56. ],\n",
       "       [106. ,  21. ,  62. ,  42. ],\n",
       "       [107. ,  66. ,  63. ,  50. ],\n",
       "       [108. ,  54. ,  63. ,  46. ],\n",
       "       [109. ,  68. ,  63. ,  43. ],\n",
       "       [110. ,  66. ,  63. ,  48. ],\n",
       "       [111. ,  65. ,  63. ,  52. ],\n",
       "       [112. ,  19. ,  63. ,  54. ],\n",
       "       [113. ,  38. ,  64. ,  42. ],\n",
       "       [114. ,  19. ,  64. ,  46. ],\n",
       "       [115. ,  18. ,  65. ,  48. ],\n",
       "       [116. ,  19. ,  65. ,  50. ],\n",
       "       [117. ,  63. ,  65. ,  43. ],\n",
       "       [118. ,  49. ,  65. ,  59. ],\n",
       "       [119. ,  51. ,  67. ,  43. ],\n",
       "       [120. ,  50. ,  67. ,  57. ],\n",
       "       [121. ,  27. ,  67. ,  56. ],\n",
       "       [122. ,  38. ,  67. ,  40. ],\n",
       "       [123. ,  40. ,  69. ,  58. ],\n",
       "       [124. ,  39. ,  69. ,  91. ],\n",
       "       [125. ,  23. ,  70. ,  29. ],\n",
       "       [126. ,  31. ,  70. ,  77. ],\n",
       "       [127. ,  43. ,  71. ,  35. ],\n",
       "       [128. ,  40. ,  71. ,  95. ],\n",
       "       [129. ,  59. ,  71. ,  11. ],\n",
       "       [130. ,  38. ,  71. ,  75. ],\n",
       "       [131. ,  47. ,  71. ,   9. ],\n",
       "       [132. ,  39. ,  71. ,  75. ],\n",
       "       [133. ,  25. ,  72. ,  34. ],\n",
       "       [134. ,  31. ,  72. ,  71. ],\n",
       "       [135. ,  20. ,  73. ,   5. ],\n",
       "       [136. ,  29. ,  73. ,  88. ],\n",
       "       [137. ,  44. ,  73. ,   7. ],\n",
       "       [138. ,  32. ,  73. ,  73. ],\n",
       "       [139. ,  19. ,  74. ,  10. ],\n",
       "       [140. ,  35. ,  74. ,  72. ],\n",
       "       [141. ,  57. ,  75. ,   5. ],\n",
       "       [142. ,  32. ,  75. ,  93. ],\n",
       "       [143. ,  28. ,  76. ,  40. ],\n",
       "       [144. ,  32. ,  76. ,  87. ],\n",
       "       [145. ,  25. ,  77. ,  12. ],\n",
       "       [146. ,  28. ,  77. ,  97. ],\n",
       "       [147. ,  48. ,  77. ,  36. ],\n",
       "       [148. ,  32. ,  77. ,  74. ],\n",
       "       [149. ,  34. ,  78. ,  22. ],\n",
       "       [150. ,  34. ,  78. ,  90. ],\n",
       "       [151. ,  43. ,  78. ,  17. ],\n",
       "       [152. ,  39. ,  78. ,  88. ],\n",
       "       [153. ,  44. ,  78. ,  20. ],\n",
       "       [154. ,  38. ,  78. ,  76. ],\n",
       "       [155. ,  47. ,  78. ,  16. ],\n",
       "       [156. ,  27. ,  78. ,  89. ],\n",
       "       [157. ,  37. ,  78. ,   1. ],\n",
       "       [158. ,  30. ,  78. ,  78. ],\n",
       "       [159. ,  34. ,  78. ,   1. ],\n",
       "       [160. ,  30. ,  78. ,  73. ],\n",
       "       [161. ,  56. ,  79. ,  35. ],\n",
       "       [162. ,  29. ,  79. ,  83. ],\n",
       "       [163. ,  19. ,  81. ,   5. ],\n",
       "       [164. ,  31. ,  81. ,  93. ],\n",
       "       [165. ,  50. ,  85. ,  26. ],\n",
       "       [166. ,  36. ,  85. ,  75. ],\n",
       "       [167. ,  42. ,  86. ,  20. ],\n",
       "       [168. ,  33. ,  86. ,  95. ],\n",
       "       [169. ,  36. ,  87. ,  27. ],\n",
       "       [170. ,  32. ,  87. ,  63. ],\n",
       "       [171. ,  40. ,  87. ,  13. ],\n",
       "       [172. ,  28. ,  87. ,  75. ],\n",
       "       [173. ,  36. ,  87. ,  10. ],\n",
       "       [174. ,  36. ,  87. ,  92. ],\n",
       "       [175. ,  52. ,  88. ,  13. ],\n",
       "       [176. ,  30. ,  88. ,  86. ],\n",
       "       [177. ,  58. ,  88. ,  15. ],\n",
       "       [178. ,  27. ,  88. ,  69. ],\n",
       "       [179. ,  59. ,  93. ,  14. ],\n",
       "       [180. ,  35. ,  93. ,  90. ],\n",
       "       [181. ,  37. ,  97. ,  32. ],\n",
       "       [182. ,  32. ,  97. ,  86. ],\n",
       "       [183. ,  46. ,  98. ,  15. ],\n",
       "       [184. ,  29. ,  98. ,  88. ],\n",
       "       [185. ,  41. ,  99. ,  39. ],\n",
       "       [186. ,  30. ,  99. ,  97. ],\n",
       "       [187. ,  54. , 101. ,  24. ],\n",
       "       [188. ,  28. , 101. ,  68. ],\n",
       "       [189. ,  41. , 103. ,  17. ],\n",
       "       [190. ,  36. , 103. ,  85. ],\n",
       "       [191. ,  34. , 103. ,  23. ],\n",
       "       [192. ,  32. , 103. ,  69. ],\n",
       "       [193. ,  33. , 113. ,   8. ],\n",
       "       [194. ,  38. , 113. ,  91. ],\n",
       "       [195. ,  47. , 120. ,  16. ],\n",
       "       [196. ,  35. , 120. ,  79. ],\n",
       "       [197. ,  45. , 126. ,  28. ],\n",
       "       [198. ,  32. , 126. ,  74. ],\n",
       "       [199. ,  32. ,  61.5,  18. ],\n",
       "       [200. ,  30. ,  61.5,  83. ]])"
      ]
     },
     "execution_count": 625,
     "metadata": {},
     "output_type": "execute_result"
    }
   ],
   "source": [
    "samples"
   ]
  },
  {
   "cell_type": "markdown",
   "metadata": {},
   "source": [
    "### KMeans Clustering"
   ]
  },
  {
   "cell_type": "code",
   "execution_count": 626,
   "metadata": {},
   "outputs": [],
   "source": [
    "from sklearn.cluster import KMeans"
   ]
  },
  {
   "cell_type": "code",
   "execution_count": 627,
   "metadata": {},
   "outputs": [],
   "source": [
    "ks=range(1,10)\n",
    "inertias=[]\n",
    "\n",
    "for k in ks:\n",
    "    #create aKMeans instance with k clusters mode\n",
    "    model=KMeans(n_clusters=k)\n",
    "    \n",
    "    # fit model to samples_\n",
    "    model.fit(samples)\n",
    "    \n",
    "    #append the inertia to the list of inertias\n",
    "    inertias.append(model.inertia_)"
   ]
  },
  {
   "cell_type": "code",
   "execution_count": 628,
   "metadata": {},
   "outputs": [
    {
     "data": {
      "text/plain": [
       "[963664.3950000001,\n",
       " 381387.0783578357,\n",
       " 267877.894470046,\n",
       " 191434.57924154063,\n",
       " 153391.76421727403,\n",
       " 119020.86469094202,\n",
       " 101158.74755667037,\n",
       " 85525.0865281737,\n",
       " 76478.01501747813]"
      ]
     },
     "execution_count": 628,
     "metadata": {},
     "output_type": "execute_result"
    }
   ],
   "source": [
    "inertias"
   ]
  },
  {
   "cell_type": "code",
   "execution_count": 629,
   "metadata": {},
   "outputs": [],
   "source": [
    "import matplotlib.pyplot as plt "
   ]
  },
  {
   "cell_type": "code",
   "execution_count": 630,
   "metadata": {},
   "outputs": [],
   "source": [
    "%matplotlib inline"
   ]
  },
  {
   "cell_type": "code",
   "execution_count": 631,
   "metadata": {},
   "outputs": [
    {
     "data": {
      "image/png": "[encoded data removed]",
      "text/plain": [
       "<Figure size 432x288 with 1 Axes>"
      ]
     },
     "metadata": {
      "needs_background": "light"
     },
     "output_type": "display_data"
    }
   ],
   "source": [
    "#plot ks vs intertias/WSS\n",
    "plt.plot(ks,inertias,'-o')\n",
    "plt.xlabel('number of clusters k')\n",
    "plt.ylabel('inertias/wss')\n",
    "plt.show()"
   ]
  },
  {
   "cell_type": "code",
   "execution_count": 632,
   "metadata": {},
   "outputs": [],
   "source": [
    "model=KMeans(n_clusters=5)"
   ]
  },
  {
   "cell_type": "code",
   "execution_count": 633,
   "metadata": {},
   "outputs": [],
   "source": [
    "labels=model.fit_predict(samples)"
   ]
  },
  {
   "cell_type": "code",
   "execution_count": 634,
   "metadata": {},
   "outputs": [
    {
     "name": "stdout",
     "output_type": "stream",
     "text": [
      "Silhouetter Score: 0.427\n"
     ]
    }
   ],
   "source": [
    "from sklearn.metrics import silhouette_score\n",
    "\n",
    "score = silhouette_score(samples, labels, metric='euclidean')\n",
    "\n",
    "print('Silhouetter Score: %.3f' % score)"
   ]
  },
  {
   "cell_type": "code",
   "execution_count": 635,
   "metadata": {},
   "outputs": [],
   "source": [
    "df2=pd.DataFrame({'labels':labels,'varieties':cust})"
   ]
  },
  {
   "cell_type": "code",
   "execution_count": 636,
   "metadata": {},
   "outputs": [],
   "source": [
    "ct=pd.crosstab(df2['labels'],df2['varieties'])"
   ]
  },
  {
   "cell_type": "code",
   "execution_count": 637,
   "metadata": {},
   "outputs": [
    {
     "data": {
      "text/html": [
       "<div>\n",
       "<style scoped>\n",
       "    .dataframe tbody tr th:only-of-type {\n",
       "        vertical-align: middle;\n",
       "    }\n",
       "\n",
       "    .dataframe tbody tr th {\n",
       "        vertical-align: top;\n",
       "    }\n",
       "\n",
       "    .dataframe thead th {\n",
       "        text-align: right;\n",
       "    }\n",
       "</style>\n",
       "<table border=\"1\" class=\"dataframe\">\n",
       "  <thead>\n",
       "    <tr style=\"text-align: right;\">\n",
       "      <th>varieties</th>\n",
       "      <th>Female</th>\n",
       "      <th>Male</th>\n",
       "    </tr>\n",
       "    <tr>\n",
       "      <th>labels</th>\n",
       "      <th></th>\n",
       "      <th></th>\n",
       "    </tr>\n",
       "  </thead>\n",
       "  <tbody>\n",
       "    <tr>\n",
       "      <th>0</th>\n",
       "      <td>22</td>\n",
       "      <td>12</td>\n",
       "    </tr>\n",
       "    <tr>\n",
       "      <th>1</th>\n",
       "      <td>38</td>\n",
       "      <td>28</td>\n",
       "    </tr>\n",
       "    <tr>\n",
       "      <th>2</th>\n",
       "      <td>21</td>\n",
       "      <td>18</td>\n",
       "    </tr>\n",
       "    <tr>\n",
       "      <th>3</th>\n",
       "      <td>17</td>\n",
       "      <td>19</td>\n",
       "    </tr>\n",
       "    <tr>\n",
       "      <th>4</th>\n",
       "      <td>14</td>\n",
       "      <td>11</td>\n",
       "    </tr>\n",
       "  </tbody>\n",
       "</table>\n",
       "</div>"
      ],
      "text/plain": [
       "varieties  Female  Male\n",
       "labels                 \n",
       "0              22    12\n",
       "1              38    28\n",
       "2              21    18\n",
       "3              17    19\n",
       "4              14    11"
      ]
     },
     "execution_count": 637,
     "metadata": {},
     "output_type": "execute_result"
    }
   ],
   "source": [
    "ct"
   ]
  },
  {
   "cell_type": "code",
   "execution_count": 638,
   "metadata": {},
   "outputs": [
    {
     "data": {
      "text/html": [
       "<div>\n",
       "<style scoped>\n",
       "    .dataframe tbody tr th:only-of-type {\n",
       "        vertical-align: middle;\n",
       "    }\n",
       "\n",
       "    .dataframe tbody tr th {\n",
       "        vertical-align: top;\n",
       "    }\n",
       "\n",
       "    .dataframe thead th {\n",
       "        text-align: right;\n",
       "    }\n",
       "</style>\n",
       "<table border=\"1\" class=\"dataframe\">\n",
       "  <thead>\n",
       "    <tr style=\"text-align: right;\">\n",
       "      <th></th>\n",
       "      <th>labels</th>\n",
       "      <th>varieties</th>\n",
       "    </tr>\n",
       "  </thead>\n",
       "  <tbody>\n",
       "    <tr>\n",
       "      <th>0</th>\n",
       "      <td>4</td>\n",
       "      <td>Male</td>\n",
       "    </tr>\n",
       "    <tr>\n",
       "      <th>1</th>\n",
       "      <td>4</td>\n",
       "      <td>Male</td>\n",
       "    </tr>\n",
       "    <tr>\n",
       "      <th>2</th>\n",
       "      <td>0</td>\n",
       "      <td>Female</td>\n",
       "    </tr>\n",
       "    <tr>\n",
       "      <th>3</th>\n",
       "      <td>4</td>\n",
       "      <td>Female</td>\n",
       "    </tr>\n",
       "    <tr>\n",
       "      <th>4</th>\n",
       "      <td>0</td>\n",
       "      <td>Female</td>\n",
       "    </tr>\n",
       "    <tr>\n",
       "      <th>...</th>\n",
       "      <td>...</td>\n",
       "      <td>...</td>\n",
       "    </tr>\n",
       "    <tr>\n",
       "      <th>195</th>\n",
       "      <td>2</td>\n",
       "      <td>Female</td>\n",
       "    </tr>\n",
       "    <tr>\n",
       "      <th>196</th>\n",
       "      <td>3</td>\n",
       "      <td>Female</td>\n",
       "    </tr>\n",
       "    <tr>\n",
       "      <th>197</th>\n",
       "      <td>2</td>\n",
       "      <td>Male</td>\n",
       "    </tr>\n",
       "    <tr>\n",
       "      <th>198</th>\n",
       "      <td>3</td>\n",
       "      <td>Male</td>\n",
       "    </tr>\n",
       "    <tr>\n",
       "      <th>199</th>\n",
       "      <td>2</td>\n",
       "      <td>Male</td>\n",
       "    </tr>\n",
       "  </tbody>\n",
       "</table>\n",
       "<p>200 rows × 2 columns</p>\n",
       "</div>"
      ],
      "text/plain": [
       "     labels varieties\n",
       "0         4      Male\n",
       "1         4      Male\n",
       "2         0    Female\n",
       "3         4    Female\n",
       "4         0    Female\n",
       "..      ...       ...\n",
       "195       2    Female\n",
       "196       3    Female\n",
       "197       2      Male\n",
       "198       3      Male\n",
       "199       2      Male\n",
       "\n",
       "[200 rows x 2 columns]"
      ]
     },
     "execution_count": 638,
     "metadata": {},
     "output_type": "execute_result"
    }
   ],
   "source": [
    "df2"
   ]
  },
  {
   "cell_type": "code",
   "execution_count": 641,
   "metadata": {},
   "outputs": [
    {
     "data": {
      "text/plain": [
       "<matplotlib.collections.PathCollection at 0x1ff264e3460>"
      ]
     },
     "execution_count": 641,
     "metadata": {},
     "output_type": "execute_result"
    },
    {
     "data": {
      "image/png": "[encoded data removed]",
      "text/plain": [
       "<Figure size 720x432 with 1 Axes>"
      ]
     },
     "metadata": {
      "needs_background": "light"
     },
     "output_type": "display_data"
    }
   ],
   "source": [
    "plt.figure(figsize=(10,6))\n",
    "plt.scatter(df['Age'],df['Annual Income (k$)'],c=labels)"
   ]
  },
  {
   "cell_type": "code",
   "execution_count": 654,
   "metadata": {},
   "outputs": [
    {
     "data": {
      "text/plain": [
       "<matplotlib.collections.PathCollection at 0x1ff27bd3ac0>"
      ]
     },
     "execution_count": 654,
     "metadata": {},
     "output_type": "execute_result"
    },
    {
     "data": {
      "image/png": "[encoded data removed]",
      "text/plain": [
       "<Figure size 432x288 with 1 Axes>"
      ]
     },
     "metadata": {
      "needs_background": "light"
     },
     "output_type": "display_data"
    }
   ],
   "source": [
    "clustering_data=df[[\"Annual Income (k$)\",\"Spending Score (1-100)\"]]\n",
    "\n",
    "cd = model.fit_predict(clustering_data)\n",
    "\n",
    "plt.scatter(df[\"Annual Income (k$)\"],df[\"Spending Score (1-100)\"],c=cd)"
   ]
  },
  {
   "cell_type": "markdown",
   "metadata": {},
   "source": [
    "### Hierarchical Clustering"
   ]
  },
  {
   "cell_type": "code",
   "execution_count": 643,
   "metadata": {},
   "outputs": [],
   "source": [
    "# replacing categorical features\n",
    "data['Gender'] = np.where(data['Gender'] == 'Male',0,1)"
   ]
  },
  {
   "cell_type": "code",
   "execution_count": 644,
   "metadata": {},
   "outputs": [],
   "source": [
    "from sklearn.preprocessing import normalize"
   ]
  },
  {
   "cell_type": "code",
   "execution_count": 645,
   "metadata": {},
   "outputs": [],
   "source": [
    "data_scaled=normalize(data) #normal the data since units are different "
   ]
  },
  {
   "cell_type": "code",
   "execution_count": 646,
   "metadata": {},
   "outputs": [],
   "source": [
    "data_scaled=pd.DataFrame(data_scaled,columns=data.columns)"
   ]
  },
  {
   "cell_type": "code",
   "execution_count": 647,
   "metadata": {},
   "outputs": [
    {
     "data": {
      "text/plain": [
       "(200, 5)"
      ]
     },
     "execution_count": 647,
     "metadata": {},
     "output_type": "execute_result"
    }
   ],
   "source": [
    "data_scaled.shape"
   ]
  },
  {
   "cell_type": "code",
   "execution_count": 648,
   "metadata": {},
   "outputs": [],
   "source": [
    "import scipy.cluster.hierarchy as shc\n",
    "from scipy.cluster.hierarchy import dendrogram, linkage"
   ]
  },
  {
   "cell_type": "code",
   "execution_count": 649,
   "metadata": {},
   "outputs": [
    {
     "data": {
      "image/png": "[encoded data removed]",
      "text/plain": [
       "<Figure size 720x504 with 1 Axes>"
      ]
     },
     "metadata": {
      "needs_background": "light"
     },
     "output_type": "display_data"
    }
   ],
   "source": [
    "plt.figure(figsize=(10,7))\n",
    "plt.title('Dendrogram')\n",
    "dend=shc.dendrogram(shc.linkage(data_scaled,method='ward'))"
   ]
  },
  {
   "cell_type": "code",
   "execution_count": 650,
   "metadata": {},
   "outputs": [],
   "source": [
    "from sklearn.cluster import AgglomerativeClustering"
   ]
  },
  {
   "cell_type": "code",
   "execution_count": 651,
   "metadata": {},
   "outputs": [],
   "source": [
    "cluster=AgglomerativeClustering(n_clusters=2,affinity='euclidean',linkage='ward')"
   ]
  },
  {
   "cell_type": "code",
   "execution_count": 652,
   "metadata": {},
   "outputs": [
    {
     "data": {
      "text/plain": [
       "array([0, 0, 0, 0, 0], dtype=int64)"
      ]
     },
     "execution_count": 652,
     "metadata": {},
     "output_type": "execute_result"
    }
   ],
   "source": [
    "cluster.fit_predict(data_scaled)[0:5]"
   ]
  },
  {
   "cell_type": "code",
   "execution_count": 653,
   "metadata": {},
   "outputs": [
    {
     "data": {
      "text/plain": [
       "<matplotlib.collections.PathCollection at 0x1ff267232e0>"
      ]
     },
     "execution_count": 653,
     "metadata": {},
     "output_type": "execute_result"
    },
    {
     "data": {
      "image/png": "[encoded data removed]",
      "text/plain": [
       "<Figure size 720x432 with 1 Axes>"
      ]
     },
     "metadata": {
      "needs_background": "light"
     },
     "output_type": "display_data"
    }
   ],
   "source": [
    "plt.figure(figsize=(10,6))\n",
    "plt.scatter(data_scaled['Age'],data_scaled['Annual Income (k$)'],c=cluster.labels_)"
   ]
  },
  {
   "cell_type": "code",
   "execution_count": null,
   "metadata": {},
   "outputs": [],
   "source": []
  }
 ],
 "metadata": {
  "kernelspec": {
   "display_name": "Python 3",
   "language": "python",
   "name": "python3"
  },
  "language_info": {
   "codemirror_mode": {
    "name": "ipython",
    "version": 3
   },
   "file_extension": ".py",
   "mimetype": "text/x-python",
   "name": "python",
   "nbconvert_exporter": "python",
   "pygments_lexer": "ipython3",
   "version": "3.8.8"
  }
 },
 "nbformat": 4,
 "nbformat_minor": 4
}
